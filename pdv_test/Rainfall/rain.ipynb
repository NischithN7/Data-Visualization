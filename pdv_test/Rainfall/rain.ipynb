{
 "cells": [
  {
   "cell_type": "code",
   "execution_count": 53,
   "metadata": {},
   "outputs": [
    {
     "data": {
      "text/plain": [
       "90    1991\n",
       "Name: YEAR, dtype: int64"
      ]
     },
     "execution_count": 53,
     "metadata": {},
     "output_type": "execute_result"
    }
   ],
   "source": [
    "#Which year has more rain in June in the southern region?\n",
    "import numpy as np\n",
    "import pandas as pd\n",
    "import matplotlib.pyplot as plt\n",
    "from pandas import DataFrame\n",
    "df = pd.read_csv(\"south_pen-India_rainfall_act_dep_1901_2016.csv\")\n",
    "df[\"rain\"]=df[\"Actual Rainfall: JUN\"]\n",
    "#print(df[\"rain\"].max())\n",
    "df[df[\"rain\"]==df[\"rain\"].max()][\"YEAR\"]"
   ]
  },
  {
   "cell_type": "code",
   "execution_count": null,
   "metadata": {
    "collapsed": true
   },
   "outputs": [],
   "source": []
  },
  {
   "cell_type": "code",
   "execution_count": 39,
   "metadata": {},
   "outputs": [
    {
     "name": "stdout",
     "output_type": "stream",
     "text": [
      "Top five dry years in south\n",
      "17     1918\n",
      "101    2002\n",
      "51     1952\n",
      "86     1987\n",
      "4      1905\n",
      "Name: YEAR, dtype: int64\n",
      "Top five dry years in north-east\n",
      "104    2005\n",
      "112    2013\n",
      "91     1992\n",
      "108    2009\n",
      "71     1972\n",
      "Name: YEAR, dtype: int64\n",
      "Top five dry years in north-west\n",
      "17     1918\n",
      "78     1979\n",
      "86     1987\n",
      "108    2009\n",
      "64     1965\n",
      "Name: YEAR, dtype: int64\n",
      "Top five dry years in central\n",
      "17    1918\n",
      "86    1987\n",
      "73    1974\n",
      "71    1972\n",
      "19    1920\n",
      "Name: YEAR, dtype: int64\n"
     ]
    }
   ],
   "source": [
    "#Find the top 5 dry years in south, north-east, north-west and central India.\n",
    "df[\"dry\"]=(df[\"Actual Rainfall: JUN\"] + df[\"Actual Rainfall: JUL\"] + df[\"Actual Rainfall: AUG\"] + df[\"Actual Rainfall: SEPT\"])\n",
    "print(\"Top five dry years in south\")\n",
    "print(df.sort_values('dry',ascending=True)[\"YEAR\"].head())\n",
    "\n",
    "df1 = pd.read_csv(\"ne-India_rainfall_act_dep_1901_2016.csv\")\n",
    "df1[\"ne_dry\"]=(df1[\"Actual Rainfall: JUN-SEPT\"])\n",
    "print(\"Top five dry years in north-east\")\n",
    "print(df1.sort_values('Actual Rainfall: JUN-SEPT',ascending=True)[\"YEAR\"].head())\n",
    "\n",
    "df2 = pd.read_csv(\"nw-India_rainfall_act_dep_1901_2016.csv\")\n",
    "#df2[\"nw_dry\"]=(df2[\"Actual Rainfall: JUN-SEPT\"])\n",
    "print(\"Top five dry years in north-west\")\n",
    "print(df2.sort_values('Actual Rainfall: JUN-SEPT',ascending=True)[\"YEAR\"].head())\n",
    "\n",
    "df3 = pd.read_csv(\"central-India_rainfall_act_dep_1901_2016.csv\")\n",
    "#df3[\"ce_dry\"]=(df3[\"Actual Rainfall: JUN-SEPT\"])\n",
    "print(\"Top five dry years in central\")\n",
    "print(df3.sort_values('Actual Rainfall: JUN-SEPT',ascending=True)[\"YEAR\"].head())\n",
    "\n"
   ]
  },
  {
   "cell_type": "code",
   "execution_count": 50,
   "metadata": {
    "scrolled": true
   },
   "outputs": [
    {
     "data": {
      "text/plain": [
       "22    Konkan & Goa\n",
       "Name: Sub-division , dtype: object"
      ]
     },
     "execution_count": 50,
     "metadata": {},
     "output_type": "execute_result"
    }
   ],
   "source": [
    "#wich sub-division is the wettest from June to August in the year 2010.\n",
    "ds = pd.read_excel(\"MONTHLY_ACTUAL_RAINFALL_FROM_2009_TO_2011.XLS\")\n",
    "ds[\"sub\"]=(ds[\"June 2010 (in millimetre)\"] + ds[\"July 2010 (in millimetre)\"] + ds[\" August 2010 (in millimetre)\"])\n",
    "\n",
    "ds[ds[\"sub\"]==ds[\"sub\"].max()][\"Sub-division \"]\n"
   ]
  },
  {
   "cell_type": "code",
   "execution_count": 58,
   "metadata": {},
   "outputs": [
    {
     "ename": "KeyError",
     "evalue": "'Coastal Karnataka'",
     "output_type": "error",
     "traceback": [
      "\u001b[0;31m---------------------------------------------------------------------------\u001b[0m",
      "\u001b[0;31mKeyError\u001b[0m                                  Traceback (most recent call last)",
      "\u001b[0;32m~/anaconda3/lib/python3.6/site-packages/pandas/core/indexes/base.py\u001b[0m in \u001b[0;36mget_loc\u001b[0;34m(self, key, method, tolerance)\u001b[0m\n\u001b[1;32m   2441\u001b[0m             \u001b[0;32mtry\u001b[0m\u001b[0;34m:\u001b[0m\u001b[0;34m\u001b[0m\u001b[0m\n\u001b[0;32m-> 2442\u001b[0;31m                 \u001b[0;32mreturn\u001b[0m \u001b[0mself\u001b[0m\u001b[0;34m.\u001b[0m\u001b[0m_engine\u001b[0m\u001b[0;34m.\u001b[0m\u001b[0mget_loc\u001b[0m\u001b[0;34m(\u001b[0m\u001b[0mkey\u001b[0m\u001b[0;34m)\u001b[0m\u001b[0;34m\u001b[0m\u001b[0m\n\u001b[0m\u001b[1;32m   2443\u001b[0m             \u001b[0;32mexcept\u001b[0m \u001b[0mKeyError\u001b[0m\u001b[0;34m:\u001b[0m\u001b[0;34m\u001b[0m\u001b[0m\n",
      "\u001b[0;32mpandas/_libs/index.pyx\u001b[0m in \u001b[0;36mpandas._libs.index.IndexEngine.get_loc\u001b[0;34m()\u001b[0m\n",
      "\u001b[0;32mpandas/_libs/index.pyx\u001b[0m in \u001b[0;36mpandas._libs.index.IndexEngine.get_loc\u001b[0;34m()\u001b[0m\n",
      "\u001b[0;32mpandas/_libs/hashtable_class_helper.pxi\u001b[0m in \u001b[0;36mpandas._libs.hashtable.PyObjectHashTable.get_item\u001b[0;34m()\u001b[0m\n",
      "\u001b[0;32mpandas/_libs/hashtable_class_helper.pxi\u001b[0m in \u001b[0;36mpandas._libs.hashtable.PyObjectHashTable.get_item\u001b[0;34m()\u001b[0m\n",
      "\u001b[0;31mKeyError\u001b[0m: 'Coastal Karnataka'",
      "\nDuring handling of the above exception, another exception occurred:\n",
      "\u001b[0;31mKeyError\u001b[0m                                  Traceback (most recent call last)",
      "\u001b[0;32m<ipython-input-58-c9ad7e83d90d>\u001b[0m in \u001b[0;36m<module>\u001b[0;34m()\u001b[0m\n\u001b[1;32m      7\u001b[0m \u001b[0;34m\u001b[0m\u001b[0m\n\u001b[1;32m      8\u001b[0m \u001b[0;31m#plot data\u001b[0m\u001b[0;34m\u001b[0m\u001b[0;34m\u001b[0m\u001b[0m\n\u001b[0;32m----> 9\u001b[0;31m \u001b[0mplt\u001b[0m\u001b[0;34m.\u001b[0m\u001b[0mplot\u001b[0m\u001b[0;34m(\u001b[0m\u001b[0mds1\u001b[0m\u001b[0;34m[\u001b[0m\u001b[0;34m'Coastal Karnataka'\u001b[0m\u001b[0;34m]\u001b[0m\u001b[0;34m,\u001b[0m\u001b[0mds1\u001b[0m\u001b[0;34m[\u001b[0m\u001b[0;34m'sub'\u001b[0m\u001b[0;34m]\u001b[0m\u001b[0;34m,\u001b[0m \u001b[0mlinestyle\u001b[0m\u001b[0;34m=\u001b[0m\u001b[0;34m\"dotted\"\u001b[0m\u001b[0;34m,\u001b[0m \u001b[0mmarker\u001b[0m\u001b[0;34m=\u001b[0m\u001b[0;34m'^'\u001b[0m\u001b[0;34m,\u001b[0m \u001b[0mcolor\u001b[0m\u001b[0;34m=\u001b[0m\u001b[0;34m\"red\"\u001b[0m\u001b[0;34m,\u001b[0m \u001b[0mlabel\u001b[0m \u001b[0;34m=\u001b[0m \u001b[0;34m'coastal'\u001b[0m\u001b[0;34m)\u001b[0m\u001b[0;34m\u001b[0m\u001b[0m\n\u001b[0m\u001b[1;32m     10\u001b[0m \u001b[0;34m\u001b[0m\u001b[0m\n\u001b[1;32m     11\u001b[0m \u001b[0mplt\u001b[0m\u001b[0;34m.\u001b[0m\u001b[0mplot\u001b[0m\u001b[0;34m(\u001b[0m\u001b[0mds1\u001b[0m\u001b[0;34m[\u001b[0m\u001b[0;34m'North Interior Karnataka'\u001b[0m\u001b[0;34m]\u001b[0m\u001b[0;34m,\u001b[0m\u001b[0mds1\u001b[0m\u001b[0;34m[\u001b[0m\u001b[0;34m'sub'\u001b[0m\u001b[0;34m]\u001b[0m\u001b[0;34m,\u001b[0m \u001b[0mlinestyle\u001b[0m\u001b[0;34m=\u001b[0m\u001b[0;34m\"solid\"\u001b[0m\u001b[0;34m,\u001b[0m \u001b[0mmarker\u001b[0m\u001b[0;34m=\u001b[0m\u001b[0;34m'o'\u001b[0m\u001b[0;34m,\u001b[0m \u001b[0mcolor\u001b[0m\u001b[0;34m=\u001b[0m\u001b[0;34m\"green\"\u001b[0m\u001b[0;34m,\u001b[0m \u001b[0mlabel\u001b[0m \u001b[0;34m=\u001b[0m \u001b[0;34m'north'\u001b[0m\u001b[0;34m)\u001b[0m\u001b[0;34m\u001b[0m\u001b[0m\n",
      "\u001b[0;32m~/anaconda3/lib/python3.6/site-packages/pandas/core/frame.py\u001b[0m in \u001b[0;36m__getitem__\u001b[0;34m(self, key)\u001b[0m\n\u001b[1;32m   1962\u001b[0m             \u001b[0;32mreturn\u001b[0m \u001b[0mself\u001b[0m\u001b[0;34m.\u001b[0m\u001b[0m_getitem_multilevel\u001b[0m\u001b[0;34m(\u001b[0m\u001b[0mkey\u001b[0m\u001b[0;34m)\u001b[0m\u001b[0;34m\u001b[0m\u001b[0m\n\u001b[1;32m   1963\u001b[0m         \u001b[0;32melse\u001b[0m\u001b[0;34m:\u001b[0m\u001b[0;34m\u001b[0m\u001b[0m\n\u001b[0;32m-> 1964\u001b[0;31m             \u001b[0;32mreturn\u001b[0m \u001b[0mself\u001b[0m\u001b[0;34m.\u001b[0m\u001b[0m_getitem_column\u001b[0m\u001b[0;34m(\u001b[0m\u001b[0mkey\u001b[0m\u001b[0;34m)\u001b[0m\u001b[0;34m\u001b[0m\u001b[0m\n\u001b[0m\u001b[1;32m   1965\u001b[0m \u001b[0;34m\u001b[0m\u001b[0m\n\u001b[1;32m   1966\u001b[0m     \u001b[0;32mdef\u001b[0m \u001b[0m_getitem_column\u001b[0m\u001b[0;34m(\u001b[0m\u001b[0mself\u001b[0m\u001b[0;34m,\u001b[0m \u001b[0mkey\u001b[0m\u001b[0;34m)\u001b[0m\u001b[0;34m:\u001b[0m\u001b[0;34m\u001b[0m\u001b[0m\n",
      "\u001b[0;32m~/anaconda3/lib/python3.6/site-packages/pandas/core/frame.py\u001b[0m in \u001b[0;36m_getitem_column\u001b[0;34m(self, key)\u001b[0m\n\u001b[1;32m   1969\u001b[0m         \u001b[0;31m# get column\u001b[0m\u001b[0;34m\u001b[0m\u001b[0;34m\u001b[0m\u001b[0m\n\u001b[1;32m   1970\u001b[0m         \u001b[0;32mif\u001b[0m \u001b[0mself\u001b[0m\u001b[0;34m.\u001b[0m\u001b[0mcolumns\u001b[0m\u001b[0;34m.\u001b[0m\u001b[0mis_unique\u001b[0m\u001b[0;34m:\u001b[0m\u001b[0;34m\u001b[0m\u001b[0m\n\u001b[0;32m-> 1971\u001b[0;31m             \u001b[0;32mreturn\u001b[0m \u001b[0mself\u001b[0m\u001b[0;34m.\u001b[0m\u001b[0m_get_item_cache\u001b[0m\u001b[0;34m(\u001b[0m\u001b[0mkey\u001b[0m\u001b[0;34m)\u001b[0m\u001b[0;34m\u001b[0m\u001b[0m\n\u001b[0m\u001b[1;32m   1972\u001b[0m \u001b[0;34m\u001b[0m\u001b[0m\n\u001b[1;32m   1973\u001b[0m         \u001b[0;31m# duplicate columns & possible reduce dimensionality\u001b[0m\u001b[0;34m\u001b[0m\u001b[0;34m\u001b[0m\u001b[0m\n",
      "\u001b[0;32m~/anaconda3/lib/python3.6/site-packages/pandas/core/generic.py\u001b[0m in \u001b[0;36m_get_item_cache\u001b[0;34m(self, item)\u001b[0m\n\u001b[1;32m   1643\u001b[0m         \u001b[0mres\u001b[0m \u001b[0;34m=\u001b[0m \u001b[0mcache\u001b[0m\u001b[0;34m.\u001b[0m\u001b[0mget\u001b[0m\u001b[0;34m(\u001b[0m\u001b[0mitem\u001b[0m\u001b[0;34m)\u001b[0m\u001b[0;34m\u001b[0m\u001b[0m\n\u001b[1;32m   1644\u001b[0m         \u001b[0;32mif\u001b[0m \u001b[0mres\u001b[0m \u001b[0;32mis\u001b[0m \u001b[0;32mNone\u001b[0m\u001b[0;34m:\u001b[0m\u001b[0;34m\u001b[0m\u001b[0m\n\u001b[0;32m-> 1645\u001b[0;31m             \u001b[0mvalues\u001b[0m \u001b[0;34m=\u001b[0m \u001b[0mself\u001b[0m\u001b[0;34m.\u001b[0m\u001b[0m_data\u001b[0m\u001b[0;34m.\u001b[0m\u001b[0mget\u001b[0m\u001b[0;34m(\u001b[0m\u001b[0mitem\u001b[0m\u001b[0;34m)\u001b[0m\u001b[0;34m\u001b[0m\u001b[0m\n\u001b[0m\u001b[1;32m   1646\u001b[0m             \u001b[0mres\u001b[0m \u001b[0;34m=\u001b[0m \u001b[0mself\u001b[0m\u001b[0;34m.\u001b[0m\u001b[0m_box_item_values\u001b[0m\u001b[0;34m(\u001b[0m\u001b[0mitem\u001b[0m\u001b[0;34m,\u001b[0m \u001b[0mvalues\u001b[0m\u001b[0;34m)\u001b[0m\u001b[0;34m\u001b[0m\u001b[0m\n\u001b[1;32m   1647\u001b[0m             \u001b[0mcache\u001b[0m\u001b[0;34m[\u001b[0m\u001b[0mitem\u001b[0m\u001b[0;34m]\u001b[0m \u001b[0;34m=\u001b[0m \u001b[0mres\u001b[0m\u001b[0;34m\u001b[0m\u001b[0m\n",
      "\u001b[0;32m~/anaconda3/lib/python3.6/site-packages/pandas/core/internals.py\u001b[0m in \u001b[0;36mget\u001b[0;34m(self, item, fastpath)\u001b[0m\n\u001b[1;32m   3588\u001b[0m \u001b[0;34m\u001b[0m\u001b[0m\n\u001b[1;32m   3589\u001b[0m             \u001b[0;32mif\u001b[0m \u001b[0;32mnot\u001b[0m \u001b[0misnull\u001b[0m\u001b[0;34m(\u001b[0m\u001b[0mitem\u001b[0m\u001b[0;34m)\u001b[0m\u001b[0;34m:\u001b[0m\u001b[0;34m\u001b[0m\u001b[0m\n\u001b[0;32m-> 3590\u001b[0;31m                 \u001b[0mloc\u001b[0m \u001b[0;34m=\u001b[0m \u001b[0mself\u001b[0m\u001b[0;34m.\u001b[0m\u001b[0mitems\u001b[0m\u001b[0;34m.\u001b[0m\u001b[0mget_loc\u001b[0m\u001b[0;34m(\u001b[0m\u001b[0mitem\u001b[0m\u001b[0;34m)\u001b[0m\u001b[0;34m\u001b[0m\u001b[0m\n\u001b[0m\u001b[1;32m   3591\u001b[0m             \u001b[0;32melse\u001b[0m\u001b[0;34m:\u001b[0m\u001b[0;34m\u001b[0m\u001b[0m\n\u001b[1;32m   3592\u001b[0m                 \u001b[0mindexer\u001b[0m \u001b[0;34m=\u001b[0m \u001b[0mnp\u001b[0m\u001b[0;34m.\u001b[0m\u001b[0marange\u001b[0m\u001b[0;34m(\u001b[0m\u001b[0mlen\u001b[0m\u001b[0;34m(\u001b[0m\u001b[0mself\u001b[0m\u001b[0;34m.\u001b[0m\u001b[0mitems\u001b[0m\u001b[0;34m)\u001b[0m\u001b[0;34m)\u001b[0m\u001b[0;34m[\u001b[0m\u001b[0misnull\u001b[0m\u001b[0;34m(\u001b[0m\u001b[0mself\u001b[0m\u001b[0;34m.\u001b[0m\u001b[0mitems\u001b[0m\u001b[0;34m)\u001b[0m\u001b[0;34m]\u001b[0m\u001b[0;34m\u001b[0m\u001b[0m\n",
      "\u001b[0;32m~/anaconda3/lib/python3.6/site-packages/pandas/core/indexes/base.py\u001b[0m in \u001b[0;36mget_loc\u001b[0;34m(self, key, method, tolerance)\u001b[0m\n\u001b[1;32m   2442\u001b[0m                 \u001b[0;32mreturn\u001b[0m \u001b[0mself\u001b[0m\u001b[0;34m.\u001b[0m\u001b[0m_engine\u001b[0m\u001b[0;34m.\u001b[0m\u001b[0mget_loc\u001b[0m\u001b[0;34m(\u001b[0m\u001b[0mkey\u001b[0m\u001b[0;34m)\u001b[0m\u001b[0;34m\u001b[0m\u001b[0m\n\u001b[1;32m   2443\u001b[0m             \u001b[0;32mexcept\u001b[0m \u001b[0mKeyError\u001b[0m\u001b[0;34m:\u001b[0m\u001b[0;34m\u001b[0m\u001b[0m\n\u001b[0;32m-> 2444\u001b[0;31m                 \u001b[0;32mreturn\u001b[0m \u001b[0mself\u001b[0m\u001b[0;34m.\u001b[0m\u001b[0m_engine\u001b[0m\u001b[0;34m.\u001b[0m\u001b[0mget_loc\u001b[0m\u001b[0;34m(\u001b[0m\u001b[0mself\u001b[0m\u001b[0;34m.\u001b[0m\u001b[0m_maybe_cast_indexer\u001b[0m\u001b[0;34m(\u001b[0m\u001b[0mkey\u001b[0m\u001b[0;34m)\u001b[0m\u001b[0;34m)\u001b[0m\u001b[0;34m\u001b[0m\u001b[0m\n\u001b[0m\u001b[1;32m   2445\u001b[0m \u001b[0;34m\u001b[0m\u001b[0m\n\u001b[1;32m   2446\u001b[0m         \u001b[0mindexer\u001b[0m \u001b[0;34m=\u001b[0m \u001b[0mself\u001b[0m\u001b[0;34m.\u001b[0m\u001b[0mget_indexer\u001b[0m\u001b[0;34m(\u001b[0m\u001b[0;34m[\u001b[0m\u001b[0mkey\u001b[0m\u001b[0;34m]\u001b[0m\u001b[0;34m,\u001b[0m \u001b[0mmethod\u001b[0m\u001b[0;34m=\u001b[0m\u001b[0mmethod\u001b[0m\u001b[0;34m,\u001b[0m \u001b[0mtolerance\u001b[0m\u001b[0;34m=\u001b[0m\u001b[0mtolerance\u001b[0m\u001b[0;34m)\u001b[0m\u001b[0;34m\u001b[0m\u001b[0m\n",
      "\u001b[0;32mpandas/_libs/index.pyx\u001b[0m in \u001b[0;36mpandas._libs.index.IndexEngine.get_loc\u001b[0;34m()\u001b[0m\n",
      "\u001b[0;32mpandas/_libs/index.pyx\u001b[0m in \u001b[0;36mpandas._libs.index.IndexEngine.get_loc\u001b[0;34m()\u001b[0m\n",
      "\u001b[0;32mpandas/_libs/hashtable_class_helper.pxi\u001b[0m in \u001b[0;36mpandas._libs.hashtable.PyObjectHashTable.get_item\u001b[0;34m()\u001b[0m\n",
      "\u001b[0;32mpandas/_libs/hashtable_class_helper.pxi\u001b[0m in \u001b[0;36mpandas._libs.hashtable.PyObjectHashTable.get_item\u001b[0;34m()\u001b[0m\n",
      "\u001b[0;31mKeyError\u001b[0m: 'Coastal Karnataka'"
     ]
    }
   ],
   "source": [
    "#draw the rainfall graph from 2002 to 2011 for costal, south-interior and north interior Karnataka\n",
    "ds1 = pd.read_excel(\"METEOROLOGICAL_SUB_DIVISION_WISE_ANNUAL_RAINFALL.xls\")\n",
    "\n",
    "ds1[\"sub\"]=(ds1[\"2002 (in millimetre)\"] + ds1[\"2003 (in millimetre)\"] + ds1[\"2004 (in millimetre)\"] + ds1[\"2005 (in millimetre)\"] + ds1[\"2006 (in millimetre)\"] + ds1[\"2007 (in millimetre)\"] + ds1[\"2008 (in millimetre)  \"] + ds1[\"2009 (in millimetre)\"] + ds1[\"2010 (in millimetre)\"] + ds1[\"2011 (in millimetre)\"])\n",
    "\n",
    "\n",
    "\n",
    "#plot data\n",
    "plt.plot(ds1['Coastal Karnataka'],ds1['sub'], linestyle=\"dotted\", marker='^', color=\"red\", label = 'coastal')\n",
    "\n",
    "plt.plot(ds1['North Interior Karnataka'],ds1['sub'], linestyle=\"solid\", marker='o', color=\"green\", label = 'north')\n",
    "\n",
    "plt.plot(ds1['South Interior Karnataka'],ds1['sub'], linestyle=\"dashed\", marker='<', color=\"blue\", label = 'south')\n",
    "\n",
    "plt.xlabel(\"Regions\")\n",
    "plt.ylabel(\"RainFall\")\n",
    "\n",
    "\n",
    "plt.legend()\n",
    "\n",
    "plt.title(\"Rain\")\n",
    "\n",
    "plt.show()"
   ]
  },
  {
   "cell_type": "code",
   "execution_count": 45,
   "metadata": {},
   "outputs": [
    {
     "name": "stdout",
     "output_type": "stream",
     "text": [
      "Enter Region,Month: northwest,june\n",
      "70    1971\n",
      "Name: YEAR, dtype: int64\n"
     ]
    }
   ],
   "source": [
    "#Write a method which takes inputs – region and Month and return the year during which max rain occurred. (region: south, north-east, north-west and central India (this goes as file name), month: June, July, August and September).\n",
    "g = input(\"Enter Region,Month: \")\n",
    "def max_rain(g):\n",
    "    if g == 'central,june':\n",
    "        c1=df3[df3[\"Actual Rainfall: JUN\"]==df3[\"Actual Rainfall: JUN\"].max()][\"YEAR\"]\n",
    "        print(c1)\n",
    "    elif g == 'central,july':\n",
    "        c2=df3[df3[\"Actual Rainfall: JUl\"]==df3[\"Actual Rainfall: JUl\"].max()][\"YEAR\"]\n",
    "        print(c2)\n",
    "    elif g == 'central,august':\n",
    "        c3=df3[df3[\"Actual Rainfall: AUG\"]==df3[\"Actual Rainfall: AUG\"].max()][\"YEAR\"]\n",
    "        print(c3)\n",
    "    elif g == 'central,september':\n",
    "        c4=df3[df3[\"Actual Rainfall: SEPT\"]==df3[\"Actual Rainfall: SEPT\"].max()][\"YEAR\"]\n",
    "        print(c4)\n",
    "    elif g == 'south,june':\n",
    "        s1=df[df[\"Actual Rainfall: JUN\"]==df[\"Actual Rainfall: JUN\"].max()][\"YEAR\"]\n",
    "        print(s1)\n",
    "    elif g == 'south,july':\n",
    "        s2=df[df[\"Actual Rainfall: JUL\"]==df[\"Actual Rainfall: JUL\"].max()][\"YEAR\"]\n",
    "        print(s2)\n",
    "    elif g == 'south,august':\n",
    "        s3=df[df[\"Actual Rainfall: AUG\"]==df[\"Actual Rainfall: AUG\"].max()][\"YEAR\"]\n",
    "        print(s3)\n",
    "    elif g == 'south,september':\n",
    "        s4=df[df[\"Actual Rainfall: SEPT\"]==df[\"Actual Rainfall: SEPT\"].max()][\"YEAR\"]\n",
    "        print(s4)\n",
    "    elif g == 'northeast,june':\n",
    "        ne1=df1[df1[\"Actual Rainfall: JUN\"]==df1[\"Actual Rainfall: JUN\"].max()][\"YEAR\"]\n",
    "        print(ne1)\n",
    "    elif g == 'northeast,july':\n",
    "        ne2=df1[df1[\"Actual Rainfall: JUL\"]==df1[\"Actual Rainfall: JUL\"].max()][\"YEAR\"]\n",
    "        print(ne2)\n",
    "    elif g == 'northeast,august':\n",
    "        ne3=df1[df1[\"Actual Rainfall: AUG\"]==df1[\"Actual Rainfall: AUG\"].max()][\"YEAR\"]\n",
    "        print(ne3)\n",
    "    elif g == 'northeast,september':\n",
    "        ne4=df1[df1[\"Actual Rainfall: SEPT\"]==df1[\"Actual Rainfall: SEPT\"].max()][\"YEAR\"]\n",
    "        print(ne4)\n",
    "    elif g == 'northwest,june':\n",
    "        nw1=df2[df2[\"Actual Rainfall: JUN\"]==df2[\"Actual Rainfall: JUN\"].max()][\"YEAR\"]\n",
    "        print(nw1)\n",
    "    elif g == 'northwest,july':\n",
    "        nw2=df2[df2[\"Actual Rainfall: JUL\"]==df2[\"Actual Rainfall: JUL\"].max()][\"YEAR\"]\n",
    "        print(nw2)\n",
    "    elif g == 'northwest,august':\n",
    "        nw3=df2[df2[\"Actual Rainfall: AUG\"]==df2[\"Actual Rainfall: AUG\"].max()][\"YEAR\"]\n",
    "        print(nw3)\n",
    "    elif g == 'northwest,september':\n",
    "        nw4=df2[df2[\"Actual Rainfall: SEPT\"]==df2[\"Actual Rainfall: SEPT\"].max()][\"YEAR\"]\n",
    "        print(nw4)\n",
    "    else:\n",
    "        print(\"No data\")\n",
    "max_rain(g)\n",
    "    "
   ]
  },
  {
   "cell_type": "code",
   "execution_count": null,
   "metadata": {
    "collapsed": true
   },
   "outputs": [],
   "source": []
  }
 ],
 "metadata": {
  "kernelspec": {
   "display_name": "Python 3",
   "language": "python",
   "name": "python3"
  },
  "language_info": {
   "codemirror_mode": {
    "name": "ipython",
    "version": 3
   },
   "file_extension": ".py",
   "mimetype": "text/x-python",
   "name": "python",
   "nbconvert_exporter": "python",
   "pygments_lexer": "ipython3",
   "version": "3.6.3"
  }
 },
 "nbformat": 4,
 "nbformat_minor": 2
}
